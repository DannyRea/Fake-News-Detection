{
  "nbformat": 4,
  "nbformat_minor": 0,
  "metadata": {
    "colab": {
      "name": "Fake News Detector.ipynb",
      "provenance": [],
      "collapsed_sections": [],
      "toc_visible": true,
      "mount_file_id": "1SKQs3Vur9m1kcYYMhgD2veieGZ6poiZR",
      "authorship_tag": "ABX9TyNSWTBXhfamxjOtQfQvnrvv",
      "include_colab_link": true
    },
    "kernelspec": {
      "name": "python3",
      "display_name": "Python 3"
    }
  },
  "cells": [
    {
      "cell_type": "markdown",
      "metadata": {
        "id": "view-in-github",
        "colab_type": "text"
      },
      "source": [
        "<a href=\"https://colab.research.google.com/github/DannyRea/Fake-News-Dectection/blob/main/Fake_News_Detector.ipynb\" target=\"_parent\"><img src=\"https://colab.research.google.com/assets/colab-badge.svg\" alt=\"Open In Colab\"/></a>"
      ]
    },
    {
      "cell_type": "code",
      "metadata": {
        "id": "ZyqAkocZ1g15",
        "colab": {
          "base_uri": "https://localhost:8080/"
        },
        "outputId": "5a67187b-6368-4956-c2fb-a591f2c41cd0"
      },
      "source": [
        "import numpy as np\n",
        "import pandas as pd\n",
        "import itertools\n",
        "from sklearn.model_selection import train_test_split\n",
        "from sklearn.feature_extraction.text import TfidfVectorizer\n",
        "from sklearn.linear_model import PassiveAggressiveClassifier\n",
        "from sklearn.metrics import accuracy_score, confusion_matrix\n",
        "\n",
        "from google.colab import drive\n",
        "from google.colab import files\n",
        "drive.mount(\"/content/drive\", force_remount=True)\n",
        "\n",
        "df = pd.read_csv('/content/drive/MyDrive/Colab Notebooks/news.csv')\n",
        "\n",
        "df.shape\n",
        "df.head()\n",
        "\n",
        "labels = df.label\n",
        "labels.head()\n",
        "\n",
        "X_train,X_test,y_train,y_test=train_test_split(df['text'], labels, test_size=0.2, random_state=7)\n",
        "\n",
        "tfidf=TfidfVectorizer(stop_words='english', max_df=0.7)\n",
        "\n",
        "tfidf_train=tfidf.fit_transform(X_train)\n",
        "tfidf_test=tfidf.transform(X_test)\n",
        "\n",
        "pac=PassiveAggressiveClassifier(max_iter=50)\n",
        "pac.fit(tfidf_train,y_train)\n",
        "\n",
        "y_pred=pac.predict(tfidf_test)\n",
        "score=accuracy_score(y_test, y_pred)\n",
        "print(f'Accuracy: {round(score*100,2)}%')\n",
        "\n",
        "confusion_matrix(y_test,y_pred, labels=['FAKE','REAL'])"
      ],
      "execution_count": null,
      "outputs": [
        {
          "output_type": "stream",
          "text": [
            "Mounted at /content/drive\n",
            "Accuracy: 92.66%\n"
          ],
          "name": "stdout"
        },
        {
          "output_type": "execute_result",
          "data": {
            "text/plain": [
              "array([[588,  50],\n",
              "       [ 43, 586]])"
            ]
          },
          "metadata": {
            "tags": []
          },
          "execution_count": 28
        }
      ]
    }
  ]
}